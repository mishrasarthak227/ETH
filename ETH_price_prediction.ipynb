{
  "nbformat": 4,
  "nbformat_minor": 0,
  "metadata": {
    "colab": {
      "name": "ETH price prediction.ipynb",
      "provenance": [],
      "collapsed_sections": []
    },
    "kernelspec": {
      "name": "python3",
      "display_name": "Python 3"
    },
    "language_info": {
      "name": "python"
    },
    "accelerator": "TPU"
  },
  "cells": [
    {
      "cell_type": "markdown",
      "metadata": {
        "id": "_a8FA61g0DB6"
      },
      "source": [
        "Name: SARTHAK MISHRA\n",
        "\n",
        "email: sarthakmishra4000@gmail.com\n"
      ]
    },
    {
      "cell_type": "markdown",
      "metadata": {
        "id": "2oKCWqniQO0V"
      },
      "source": [
        "Ethereum price prediction using Multivariate RNN"
      ]
    },
    {
      "cell_type": "markdown",
      "metadata": {
        "id": "sKUttgsisqrR"
      },
      "source": [
        "Importing libraries"
      ]
    },
    {
      "cell_type": "code",
      "metadata": {
        "id": "69VXJNnprep_"
      },
      "source": [
        "import os\n",
        "os.environ['PYTHONHASHSEED'] = '0'\n",
        "import random as rn\n",
        "import numpy as np\n",
        "np.random.seed(1)\n",
        "rn.seed(3)\n",
        "import pandas as pd\n",
        "import matplotlib.pyplot as plt\n",
        "\n",
        "import tensorflow\n",
        "tensorflow.random.set_seed(2)\n",
        "\n",
        "from tensorflow.keras.models import Sequential, load_model\n",
        "from tensorflow.keras.layers import Dense\n",
        "from tensorflow.keras.layers import SimpleRNN\n",
        "from tensorflow.keras import optimizers\n",
        "from tensorflow.keras.callbacks import EarlyStopping, ModelCheckpoint\n",
        "from sklearn.preprocessing import MinMaxScaler\n",
        "from sklearn.metrics import mean_squared_error, r2_score\n",
        "from math import sqrt\n",
        "import datetime as dt\n",
        "import time"
      ],
      "execution_count": 2,
      "outputs": []
    },
    {
      "cell_type": "markdown",
      "metadata": {
        "id": "Mzgl1eFSs1kp"
      },
      "source": [
        "1. Data Preprocessing"
      ]
    },
    {
      "cell_type": "markdown",
      "metadata": {
        "id": "wLhvNheYtqz0"
      },
      "source": [
        "We used the historical prices of Ethereum obtained from Binance Exchange. It contains records of hourly prices of Ethereum from 17/08/2017 to 12/06/2021. Each record contains information of opening, high, low, and closing value of Ethereum as well as the volume sold on that day."
      ]
    },
    {
      "cell_type": "code",
      "metadata": {
        "colab": {
          "base_uri": "https://localhost:8080/"
        },
        "id": "twwJ5ruVrnpt",
        "outputId": "d0404a00-2f90-49c8-b55a-c908c84a63bf"
      },
      "source": [
        "# Loading the dataset\n",
        "url = '/content/ETHUSDT5m.csv'\n",
        "df = pd.read_csv(url, parse_dates=True, dayfirst=True, index_col = 0)\n",
        "\n",
        "df.head(),df.tail(),len(df)"
      ],
      "execution_count": 59,
      "outputs": [
        {
          "output_type": "execute_result",
          "data": {
            "text/plain": [
              "(                       open   close    high  ...    volume  noOfTrades\n",
              " opentime                                     ...                      \n",
              " 2017-08-17 04:00:00  301.13  301.13  301.13  ...   3.82951        12.0\n",
              " 2017-08-17 04:05:00  300.00  298.00  301.13  ...   1.97216        10.0\n",
              " 2017-08-17 04:10:00  298.00  298.00  298.00  ...   0.00000         0.0\n",
              " 2017-08-17 04:15:00  298.00  299.05  299.05  ...  12.88486         4.02\n",
              " 2017-08-17 04:20:00  299.05  300.10  300.10  ...   6.58304         8.0\n",
              " \n",
              " [5 rows x 6 columns],\n",
              "                         open    close  ...  noOfTrades\n",
              " opentime                               ...            \n",
              " 2021-06-12 10:10:00  2322.88  2309.69  ...      4900.0\n",
              " 2021-06-12 10:15:00  2309.63  2315.27  ...      9173.0\n",
              " 2021-06-12 10:20:00  2315.56  2315.05  ...      4417.0\n",
              " 2021-06-12 10:25:00  2315.04  2340.90  ...     10567.0\n",
              " 2021-06-12 10:30:00  2340.50  2374.25  ...     19291.0\n",
              " \n",
              " [5 rows x 6 columns],\n",
              " 400630)"
            ]
          },
          "metadata": {},
          "execution_count": 59
        }
      ]
    },
    {
      "cell_type": "markdown",
      "metadata": {
        "id": "MnP9TtGrZ6sg"
      },
      "source": [
        "Grouping the dataset in chunks of 60 mins"
      ]
    },
    {
      "cell_type": "code",
      "metadata": {
        "colab": {
          "base_uri": "https://localhost:8080/",
          "height": 233
        },
        "id": "ROyQTEE4Z4lS",
        "outputId": "80fcccb9-e9fd-4e1b-bd3c-e2238d74b3ab"
      },
      "source": [
        "df = df.groupby(pd.Grouper(freq='60Min')).agg({'open':'first', 'high':'max', 'low':'min', 'close':'last', 'volume':'sum', 'noOfTrades':'sum'})\n",
        "df.head()"
      ],
      "execution_count": 60,
      "outputs": [
        {
          "output_type": "execute_result",
          "data": {
            "text/html": [
              "<div>\n",
              "<style scoped>\n",
              "    .dataframe tbody tr th:only-of-type {\n",
              "        vertical-align: middle;\n",
              "    }\n",
              "\n",
              "    .dataframe tbody tr th {\n",
              "        vertical-align: top;\n",
              "    }\n",
              "\n",
              "    .dataframe thead th {\n",
              "        text-align: right;\n",
              "    }\n",
              "</style>\n",
              "<table border=\"1\" class=\"dataframe\">\n",
              "  <thead>\n",
              "    <tr style=\"text-align: right;\">\n",
              "      <th></th>\n",
              "      <th>open</th>\n",
              "      <th>high</th>\n",
              "      <th>low</th>\n",
              "      <th>close</th>\n",
              "      <th>volume</th>\n",
              "      <th>noOfTrades</th>\n",
              "    </tr>\n",
              "    <tr>\n",
              "      <th>opentime</th>\n",
              "      <th></th>\n",
              "      <th></th>\n",
              "      <th></th>\n",
              "      <th></th>\n",
              "      <th></th>\n",
              "      <th></th>\n",
              "    </tr>\n",
              "  </thead>\n",
              "  <tbody>\n",
              "    <tr>\n",
              "      <th>2017-08-17 04:00:00</th>\n",
              "      <td>301.13</td>\n",
              "      <td>302.57</td>\n",
              "      <td>298.0</td>\n",
              "      <td>301.61</td>\n",
              "      <td>125.66877</td>\n",
              "      <td>129.0</td>\n",
              "    </tr>\n",
              "    <tr>\n",
              "      <th>2017-08-17 05:00:00</th>\n",
              "      <td>301.61</td>\n",
              "      <td>303.28</td>\n",
              "      <td>300.0</td>\n",
              "      <td>303.10</td>\n",
              "      <td>377.67246</td>\n",
              "      <td>202.0</td>\n",
              "    </tr>\n",
              "    <tr>\n",
              "      <th>2017-08-17 06:00:00</th>\n",
              "      <td>302.40</td>\n",
              "      <td>304.44</td>\n",
              "      <td>301.9</td>\n",
              "      <td>302.68</td>\n",
              "      <td>303.86672</td>\n",
              "      <td>182.0</td>\n",
              "    </tr>\n",
              "    <tr>\n",
              "      <th>2017-08-17 07:00:00</th>\n",
              "      <td>302.68</td>\n",
              "      <td>307.96</td>\n",
              "      <td>302.6</td>\n",
              "      <td>307.96</td>\n",
              "      <td>754.74510</td>\n",
              "      <td>198.0</td>\n",
              "    </tr>\n",
              "    <tr>\n",
              "      <th>2017-08-17 08:00:00</th>\n",
              "      <td>307.95</td>\n",
              "      <td>309.97</td>\n",
              "      <td>307.0</td>\n",
              "      <td>308.62</td>\n",
              "      <td>150.75029</td>\n",
              "      <td>182.0</td>\n",
              "    </tr>\n",
              "  </tbody>\n",
              "</table>\n",
              "</div>"
            ],
            "text/plain": [
              "                       open    high    low   close     volume  noOfTrades\n",
              "opentime                                                                 \n",
              "2017-08-17 04:00:00  301.13  302.57  298.0  301.61  125.66877       129.0\n",
              "2017-08-17 05:00:00  301.61  303.28  300.0  303.10  377.67246       202.0\n",
              "2017-08-17 06:00:00  302.40  304.44  301.9  302.68  303.86672       182.0\n",
              "2017-08-17 07:00:00  302.68  307.96  302.6  307.96  754.74510       198.0\n",
              "2017-08-17 08:00:00  307.95  309.97  307.0  308.62  150.75029       182.0"
            ]
          },
          "metadata": {},
          "execution_count": 60
        }
      ]
    },
    {
      "cell_type": "markdown",
      "metadata": {
        "id": "fRy5aZmZujTT"
      },
      "source": [
        "Analyzing the distribution of opening prices of all the time intervals in the entire dataset"
      ]
    },
    {
      "cell_type": "code",
      "metadata": {
        "colab": {
          "base_uri": "https://localhost:8080/",
          "height": 308
        },
        "id": "a28_x5mHrsFl",
        "outputId": "19298225-a0e7-4761-fb52-a9299d7bea18"
      },
      "source": [
        "df['open'].plot()"
      ],
      "execution_count": 61,
      "outputs": [
        {
          "output_type": "execute_result",
          "data": {
            "text/plain": [
              "<matplotlib.axes._subplots.AxesSubplot at 0x7ff6a8d8fed0>"
            ]
          },
          "metadata": {},
          "execution_count": 61
        },
        {
          "output_type": "display_data",
          "data": {
            "image/png": "[encoded data removed]",
            "text/plain": [
              "<Figure size 432x288 with 1 Axes>"
            ]
          },
          "metadata": {
            "needs_background": "light"
          }
        }
      ]
    },
    {
      "cell_type": "code",
      "metadata": {
        "colab": {
          "base_uri": "https://localhost:8080/"
        },
        "id": "MVC0iimartz9",
        "outputId": "32d948c7-006e-4171-d99c-deff5f907b04"
      },
      "source": [
        "# Correlation matrix\n",
        "df.corr()['open']"
      ],
      "execution_count": 62,
      "outputs": [
        {
          "output_type": "execute_result",
          "data": {
            "text/plain": [
              "open          1.000000\n",
              "high          0.999916\n",
              "low           0.999818\n",
              "close         0.999814\n",
              "volume        0.266646\n",
              "noOfTrades    0.712785\n",
              "Name: open, dtype: float64"
            ]
          },
          "metadata": {},
          "execution_count": 62
        }
      ]
    },
    {
      "cell_type": "markdown",
      "metadata": {
        "id": "p8M0uB2tvk5D"
      },
      "source": [
        "First, we remove some redundant and noisy data, such as the records with volume 0 and scale it from 0-1.\n",
        "\n"
      ]
    },
    {
      "cell_type": "code",
      "metadata": {
        "colab": {
          "base_uri": "https://localhost:8080/"
        },
        "id": "_E8toLqfrvp1",
        "outputId": "06f57b88-f0b1-4e1d-be14-4564248ffbe3"
      },
      "source": [
        "# Distribution of Various Features\n",
        "print(df.describe().volume) \n",
        "df.drop(df[df['volume'] == 0].index, inplace = True)# Dropping rows with volume value 0"
      ],
      "execution_count": 63,
      "outputs": [
        {
          "output_type": "stream",
          "name": "stdout",
          "text": [
            "count     33487.000000\n",
            "mean      22557.960335\n",
            "std       29587.847904\n",
            "min           0.000000\n",
            "25%        5320.489500\n",
            "50%       13276.182510\n",
            "75%       28686.949995\n",
            "max      493227.882820\n",
            "Name: volume, dtype: float64\n"
          ]
        }
      ]
    },
    {
      "cell_type": "code",
      "metadata": {
        "colab": {
          "base_uri": "https://localhost:8080/"
        },
        "id": "u9RYB53ETlYl",
        "outputId": "7553c662-5a85-431d-f6d5-6c1462270afd"
      },
      "source": [
        "df['volumen'] = (df['volume'] - df['volume'].min()) / (df['volume'].max() - df['volume'].min())\n",
        "df['volumen'].describe()"
      ],
      "execution_count": 64,
      "outputs": [
        {
          "output_type": "execute_result",
          "data": {
            "text/plain": [
              "count    33362.000000\n",
              "mean         0.045907\n",
              "std          0.060035\n",
              "min          0.000000\n",
              "25%          0.010927\n",
              "50%          0.027083\n",
              "75%          0.058366\n",
              "max          1.000000\n",
              "Name: volumen, dtype: float64"
            ]
          },
          "metadata": {},
          "execution_count": 64
        }
      ]
    },
    {
      "cell_type": "code",
      "metadata": {
        "id": "dfASCjU7rzOn"
      },
      "source": [
        "# Setting up an early stop\n",
        "earlystop = EarlyStopping(monitor='val_loss', min_delta=0.0001, patience=75,  verbose=1, mode='min')\n",
        "\n",
        "modelSave = ModelCheckpoint(\n",
        "    \"/content/keras/weights-{epoch:02d}.hdf5\",\n",
        "    monitor=\"val_loss\",\n",
        "    verbose=1,\n",
        "    save_best_only=True,\n",
        "    save_weights_only=False,\n",
        "    mode=\"auto\",\n",
        "    save_freq=\"epoch\",\n",
        "    options=None,\n",
        ")"
      ],
      "execution_count": 67,
      "outputs": []
    },
    {
      "cell_type": "code",
      "metadata": {
        "id": "_5QpdXPjr9e6"
      },
      "source": [
        "#Build and train the model\n",
        "def fit_model(train,val,timesteps,hl,lr,batch,epochs):\n",
        "    X_train = []\n",
        "    Y_train = []\n",
        "    X_val = []\n",
        "    Y_val = []\n",
        "  \n",
        "    # Loop for training data\n",
        "    for i in range(timesteps,train.shape[0]):\n",
        "        X_train.append(train[i-timesteps:i])\n",
        "        Y_train.append(train[i][0])\n",
        "    X_train,Y_train = np.array(X_train),np.array(Y_train)\n",
        "  \n",
        "    # Loop for val data\n",
        "    for i in range(timesteps,val.shape[0]):\n",
        "        X_val.append(val[i-timesteps:i])\n",
        "        Y_val.append(val[i][0])\n",
        "    X_val,Y_val = np.array(X_val),np.array(Y_val)\n",
        "    \n",
        "    # Adding Layers to the model\n",
        "    model = Sequential()\n",
        "    model.add(SimpleRNN(X_train.shape[2],input_shape = (X_train.shape[1],X_train.shape[2]),return_sequences = True,\n",
        "                        activation = 'relu'))\n",
        "    for i in range(len(hl)-1):        \n",
        "        model.add(SimpleRNN(hl[i],activation = 'relu',return_sequences = True))\n",
        "    model.add(SimpleRNN(hl[-1],activation = 'relu'))\n",
        "    model.add(Dense(1))\n",
        "\n",
        "    model.compile(optimizer = optimizers.Adam(learning_rate = lr), loss = 'mean_squared_error')\n",
        "  \n",
        "    # Training the data\n",
        "    history = model.fit(X_train,Y_train,epochs = epochs,batch_size = batch,validation_data = (X_val, Y_val),verbose = 1,\n",
        "                        shuffle = False)\n",
        "    model.reset_states()\n",
        "    return model, history.history['loss'], history.history['val_loss']"
      ],
      "execution_count": 68,
      "outputs": []
    },
    {
      "cell_type": "code",
      "metadata": {
        "id": "MRW18dRvr_yC"
      },
      "source": [
        "# Evaluating the model\n",
        "def evaluate_model(model,test,timesteps):\n",
        "    X_test = []\n",
        "    Y_test = []\n",
        "\n",
        "    # Loop for testing data\n",
        "    for i in range(timesteps,test.shape[0]):\n",
        "        X_test.append(test[i-timesteps:i])\n",
        "        Y_test.append(test[i][0])\n",
        "    X_test,Y_test = np.array(X_test),np.array(Y_test)\n",
        "    #print(X_test.shape,Y_test.shape)\n",
        "  \n",
        "    # Prediction Time\n",
        "    Y_pred = model.predict(X_test)\n",
        "    mse = mean_squared_error(Y_test,Y_pred)\n",
        "    rmse = sqrt(mse)\n",
        "    r = r2_score(Y_test,Y_pred)\n",
        "    return mse, rmse, r, Y_test, Y_pred"
      ],
      "execution_count": 69,
      "outputs": []
    },
    {
      "cell_type": "code",
      "metadata": {
        "id": "t5UB-Q7rsC6Z"
      },
      "source": [
        "# Plotting the predictions\n",
        "def plot_data(Y_test,Y_pred):\n",
        "    plt.plot(Y_test,c = 'r')\n",
        "    plt.plot(Y_pred,c = 'y')\n",
        "    #plt.xlabel('Day')\n",
        "    plt.ylabel('Price')\n",
        "    plt.title(\"Ethereum Price Prediction using Multivatiate-RNN\")\n",
        "    plt.legend(['Actual','Predicted'],loc = 'lower right')\n",
        "    plt.show()"
      ],
      "execution_count": 70,
      "outputs": []
    },
    {
      "cell_type": "code",
      "metadata": {
        "id": "2jsrzS1usDh4"
      },
      "source": [
        "# Plotting the training errors\n",
        "def plot_error(train_loss,val_loss):\n",
        "    plt.plot(train_loss,c = 'r')\n",
        "    plt.plot(val_loss,c = 'b')\n",
        "    plt.ylabel('Loss')\n",
        "    plt.xlabel('Epochs')\n",
        "    plt.title('Loss Plot')\n",
        "    plt.legend(['train','val'],loc = 'upper right')\n",
        "    plt.show()"
      ],
      "execution_count": 71,
      "outputs": []
    },
    {
      "cell_type": "markdown",
      "metadata": {
        "id": "u32H6V5DUAcs"
      },
      "source": [
        "We pick 5 parameters for our model, OHLC candlestick data and the normalised volume."
      ]
    },
    {
      "cell_type": "code",
      "metadata": {
        "colab": {
          "base_uri": "https://localhost:8080/"
        },
        "id": "xDDs0erxsFRq",
        "outputId": "1bcbb569-946d-482f-e1eb-7d4942d61e2c"
      },
      "source": [
        "# Extracting the series\n",
        "series = df[['open','close','high','low','volumen']] # Picking the multivariate series \n",
        "print(series.shape)\n",
        "print(series.tail())"
      ],
      "execution_count": 72,
      "outputs": [
        {
          "output_type": "stream",
          "name": "stdout",
          "text": [
            "(33362, 5)\n",
            "                        open    close     high      low   volumen\n",
            "opentime                                                         \n",
            "2021-06-12 06:00:00  2290.34  2299.11  2302.00  2283.47  0.044281\n",
            "2021-06-12 07:00:00  2299.11  2322.12  2325.44  2299.11  0.072277\n",
            "2021-06-12 08:00:00  2322.12  2308.01  2322.92  2302.05  0.059376\n",
            "2021-06-12 09:00:00  2308.00  2326.51  2327.37  2301.26  0.057478\n",
            "2021-06-12 10:00:00  2326.48  2374.25  2389.00  2297.10  0.103863\n"
          ]
        }
      ]
    },
    {
      "cell_type": "markdown",
      "metadata": {
        "id": "Wht65ofgT_U7"
      },
      "source": [
        "This data was split into train, validation and test data. The training data contains records from 17 Aug 2017 to 30 Apr 2021, validation data contains records from 1 May 2021 to 31 May 2021 and test data contains records from 1 Jun 2021 to 12 Jun 2021."
      ]
    },
    {
      "cell_type": "code",
      "metadata": {
        "colab": {
          "base_uri": "https://localhost:8080/"
        },
        "id": "A4X1AZ3vsG5p",
        "outputId": "84ee1867-2a06-440e-c20e-2dd18886c6c1"
      },
      "source": [
        "# Train Val Test Split\n",
        "train_start = dt.date(2017,8,17)\n",
        "train_end = dt.datetime(2021,4,30,23)\n",
        "train_data = series.loc[train_start:train_end]\n",
        "\n",
        "val_start = dt.date(2021,5,1)\n",
        "val_end = dt.datetime(2021,5,31,23)\n",
        "val_data = series.loc[val_start:val_end]\n",
        "\n",
        "test_start = dt.date(2021,6,1)\n",
        "test_end = dt.datetime(2021,6,12,23)\n",
        "test_data = series.loc[test_start:test_end]\n",
        "\n",
        "(train_data.shape,val_data.shape,test_data.shape)"
      ],
      "execution_count": 73,
      "outputs": [
        {
          "output_type": "execute_result",
          "data": {
            "text/plain": [
              "((32343, 5), (744, 5), (275, 5))"
            ]
          },
          "metadata": {},
          "execution_count": 73
        }
      ]
    },
    {
      "cell_type": "code",
      "metadata": {
        "colab": {
          "base_uri": "https://localhost:8080/"
        },
        "id": "CM3Bap2KsIoQ",
        "outputId": "f4f8e835-260b-4279-d6a3-6bfd64411312"
      },
      "source": [
        "train = np.array(train_data)\n",
        "val = np.array(val_data)\n",
        "test = np.array(test_data)\n",
        "print(train.shape,val.shape,test.shape)"
      ],
      "execution_count": 74,
      "outputs": [
        {
          "output_type": "stream",
          "name": "stdout",
          "text": [
            "(32343, 5) (744, 5) (275, 5)\n"
          ]
        }
      ]
    },
    {
      "cell_type": "code",
      "metadata": {
        "id": "KxmSFiGFsNSA"
      },
      "source": [
        "# Hyperparameters\n",
        "timesteps = 24\n",
        "hl = [50,45]\n",
        "lr = 0.001\n",
        "batch_size = 32\n",
        "num_epochs = 200"
      ],
      "execution_count": 75,
      "outputs": []
    },
    {
      "cell_type": "code",
      "metadata": {
        "colab": {
          "base_uri": "https://localhost:8080/",
          "height": 1000
        },
        "id": "f5caEKkOsP1Z",
        "outputId": "d8d9447e-169e-42d0-f3ba-7036a47f22a6"
      },
      "source": [
        "model,train_error,val_error = fit_model(train,val,timesteps,hl,lr,batch_size,num_epochs)\n",
        "plot_error(train_error,val_error)"
      ],
      "execution_count": 76,
      "outputs": [
        {
          "output_type": "stream",
          "name": "stdout",
          "text": [
            "Epoch 1/200\n",
            "1010/1010 [==============================] - 18s 16ms/step - loss: 1854.2936 - val_loss: 143598.1406\n",
            "Epoch 2/200\n",
            "1010/1010 [==============================] - 15s 15ms/step - loss: 813.2502 - val_loss: 61496.8438\n",
            "Epoch 3/200\n",
            "1010/1010 [==============================] - 15s 15ms/step - loss: 719.6935 - val_loss: 57060.9766\n",
            "Epoch 4/200\n",
            "1010/1010 [==============================] - 15s 15ms/step - loss: 423.7549 - val_loss: 30528.2500\n",
            "Epoch 5/200\n",
            "1010/1010 [==============================] - 15s 15ms/step - loss: 467.7931 - val_loss: 45557.9570\n",
            "Epoch 6/200\n",
            "1010/1010 [==============================] - 15s 15ms/step - loss: 345.1493 - val_loss: 32083.1562\n",
            "Epoch 7/200\n",
            "1010/1010 [==============================] - 15s 15ms/step - loss: 280.5348 - val_loss: 22195.2383\n",
            "Epoch 8/200\n",
            "1010/1010 [==============================] - 15s 15ms/step - loss: 214.7250 - val_loss: 5864.6377\n",
            "Epoch 9/200\n",
            "1010/1010 [==============================] - 15s 15ms/step - loss: 191.3231 - val_loss: 19189.0723\n",
            "Epoch 10/200\n",
            "1010/1010 [==============================] - 15s 15ms/step - loss: 172.2241 - val_loss: 4233.6011\n",
            "Epoch 11/200\n",
            "1010/1010 [==============================] - 15s 15ms/step - loss: 125.9658 - val_loss: 8692.4014\n",
            "Epoch 12/200\n",
            "1010/1010 [==============================] - 15s 15ms/step - loss: 148.3284 - val_loss: 3612.2600\n",
            "Epoch 13/200\n",
            "1010/1010 [==============================] - 15s 15ms/step - loss: 110.0872 - val_loss: 9574.1924\n",
            "Epoch 14/200\n",
            "1010/1010 [==============================] - 15s 15ms/step - loss: 149.2397 - val_loss: 3904.2112\n",
            "Epoch 15/200\n",
            "1010/1010 [==============================] - 15s 15ms/step - loss: 95.0857 - val_loss: 5253.9092\n",
            "Epoch 16/200\n",
            "1010/1010 [==============================] - 15s 15ms/step - loss: 96.3050 - val_loss: 6950.9116\n",
            "Epoch 17/200\n",
            "1010/1010 [==============================] - 15s 15ms/step - loss: 101.3593 - val_loss: 9844.4502\n",
            "Epoch 18/200\n",
            "1010/1010 [==============================] - 15s 15ms/step - loss: 112.2480 - val_loss: 14060.0537\n",
            "Epoch 19/200\n",
            "1010/1010 [==============================] - 15s 15ms/step - loss: 107.4771 - val_loss: 6549.2700\n",
            "Epoch 20/200\n",
            "1010/1010 [==============================] - 15s 15ms/step - loss: 83.6602 - val_loss: 5353.1992\n",
            "Epoch 21/200\n",
            "1010/1010 [==============================] - 15s 15ms/step - loss: 76.4438 - val_loss: 5084.5137\n",
            "Epoch 22/200\n",
            "1010/1010 [==============================] - 15s 15ms/step - loss: 71.0021 - val_loss: 5083.1221\n",
            "Epoch 23/200\n",
            "1010/1010 [==============================] - 15s 15ms/step - loss: 72.3444 - val_loss: 2220.1467\n",
            "Epoch 24/200\n",
            "1010/1010 [==============================] - 15s 15ms/step - loss: 53.5598 - val_loss: 10620.9795\n",
            "Epoch 25/200\n",
            "1010/1010 [==============================] - 15s 15ms/step - loss: 73.7498 - val_loss: 1914.7820\n",
            "Epoch 26/200\n",
            "1010/1010 [==============================] - 15s 15ms/step - loss: 61.6827 - val_loss: 6819.8110\n",
            "Epoch 27/200\n",
            "1010/1010 [==============================] - 15s 15ms/step - loss: 54.4005 - val_loss: 7673.0723\n",
            "Epoch 28/200\n",
            "1010/1010 [==============================] - 15s 15ms/step - loss: 69.8757 - val_loss: 11376.9053\n",
            "Epoch 29/200\n",
            "1010/1010 [==============================] - 15s 15ms/step - loss: 53.2734 - val_loss: 6331.7832\n",
            "Epoch 30/200\n",
            "1010/1010 [==============================] - 15s 15ms/step - loss: 51.2343 - val_loss: 5516.6191\n",
            "Epoch 31/200\n",
            "1010/1010 [==============================] - 15s 15ms/step - loss: 52.4788 - val_loss: 1579.6678\n",
            "Epoch 32/200\n",
            "1010/1010 [==============================] - 15s 15ms/step - loss: 39.1414 - val_loss: 5988.5464\n",
            "Epoch 33/200\n",
            "1010/1010 [==============================] - 15s 15ms/step - loss: 48.7763 - val_loss: 4632.1143\n",
            "Epoch 34/200\n",
            "1010/1010 [==============================] - 16s 15ms/step - loss: 46.1564 - val_loss: 6045.2061\n",
            "Epoch 35/200\n",
            "1010/1010 [==============================] - 15s 15ms/step - loss: 56.0331 - val_loss: 2812.5999\n",
            "Epoch 36/200\n",
            "1010/1010 [==============================] - 15s 15ms/step - loss: 41.3257 - val_loss: 3443.4426\n",
            "Epoch 37/200\n",
            "1010/1010 [==============================] - 15s 15ms/step - loss: 42.9492 - val_loss: 3469.9893\n",
            "Epoch 38/200\n",
            "1010/1010 [==============================] - 15s 15ms/step - loss: 42.3633 - val_loss: 3271.6091\n",
            "Epoch 39/200\n",
            "1010/1010 [==============================] - 15s 15ms/step - loss: 40.9108 - val_loss: 2617.6543\n",
            "Epoch 40/200\n",
            "1010/1010 [==============================] - 15s 15ms/step - loss: 37.9978 - val_loss: 2661.4941\n",
            "Epoch 41/200\n",
            "1010/1010 [==============================] - 16s 15ms/step - loss: 37.8283 - val_loss: 2259.0562\n",
            "Epoch 42/200\n",
            "1010/1010 [==============================] - 15s 15ms/step - loss: 36.4742 - val_loss: 2066.3687\n",
            "Epoch 43/200\n",
            "1010/1010 [==============================] - 15s 15ms/step - loss: 35.8772 - val_loss: 1828.9326\n",
            "Epoch 44/200\n",
            "1010/1010 [==============================] - 15s 15ms/step - loss: 33.9761 - val_loss: 1814.2209\n",
            "Epoch 45/200\n",
            "1010/1010 [==============================] - 15s 15ms/step - loss: 33.2391 - val_loss: 1799.5325\n",
            "Epoch 46/200\n",
            "1010/1010 [==============================] - 16s 15ms/step - loss: 32.8664 - val_loss: 1769.1964\n",
            "Epoch 47/200\n",
            "1010/1010 [==============================] - 15s 15ms/step - loss: 31.4990 - val_loss: 1821.8582\n",
            "Epoch 48/200\n",
            "1010/1010 [==============================] - 15s 15ms/step - loss: 31.1278 - val_loss: 1737.0140\n",
            "Epoch 49/200\n",
            "1010/1010 [==============================] - 16s 16ms/step - loss: 31.8538 - val_loss: 1306.3295\n",
            "Epoch 50/200\n",
            "1010/1010 [==============================] - 15s 15ms/step - loss: 29.3064 - val_loss: 1790.0569\n",
            "Epoch 51/200\n",
            "1010/1010 [==============================] - 16s 15ms/step - loss: 29.2207 - val_loss: 1881.3455\n",
            "Epoch 52/200\n",
            "1010/1010 [==============================] - 16s 15ms/step - loss: 29.0976 - val_loss: 2004.4010\n",
            "Epoch 53/200\n",
            "1010/1010 [==============================] - 16s 16ms/step - loss: 28.0193 - val_loss: 2287.4761\n",
            "Epoch 54/200\n",
            "1010/1010 [==============================] - 16s 15ms/step - loss: 28.9932 - val_loss: 2059.1597\n",
            "Epoch 55/200\n",
            "1010/1010 [==============================] - 16s 16ms/step - loss: 27.7179 - val_loss: 2131.2771\n",
            "Epoch 56/200\n",
            "1010/1010 [==============================] - 15s 15ms/step - loss: 27.2767 - val_loss: 2445.1421\n",
            "Epoch 57/200\n",
            "1010/1010 [==============================] - 16s 15ms/step - loss: 30.8703 - val_loss: 2545.2849\n",
            "Epoch 58/200\n",
            "1010/1010 [==============================] - 15s 15ms/step - loss: 27.5002 - val_loss: 2958.6233\n",
            "Epoch 59/200\n",
            "1010/1010 [==============================] - 15s 15ms/step - loss: 27.8430 - val_loss: 2925.9312\n",
            "Epoch 60/200\n",
            "1010/1010 [==============================] - 15s 15ms/step - loss: 27.2194 - val_loss: 3088.8479\n",
            "Epoch 61/200\n",
            "1010/1010 [==============================] - 15s 15ms/step - loss: 26.3701 - val_loss: 3119.5764\n",
            "Epoch 62/200\n",
            "1010/1010 [==============================] - 15s 15ms/step - loss: 25.8732 - val_loss: 3187.8916\n",
            "Epoch 63/200\n",
            "1010/1010 [==============================] - 16s 15ms/step - loss: 25.2386 - val_loss: 2782.6577\n",
            "Epoch 64/200\n",
            "1010/1010 [==============================] - 16s 15ms/step - loss: 23.9995 - val_loss: 2527.2019\n",
            "Epoch 65/200\n",
            "1010/1010 [==============================] - 15s 15ms/step - loss: 23.1941 - val_loss: 2856.7305\n",
            "Epoch 66/200\n",
            "1010/1010 [==============================] - 15s 15ms/step - loss: 24.0484 - val_loss: 1959.9902\n",
            "Epoch 67/200\n",
            "1010/1010 [==============================] - 16s 15ms/step - loss: 21.2489 - val_loss: 3298.5117\n",
            "Epoch 68/200\n",
            "1010/1010 [==============================] - 15s 15ms/step - loss: 24.2880 - val_loss: 733.6727\n",
            "Epoch 69/200\n",
            "1010/1010 [==============================] - 15s 15ms/step - loss: 16.9071 - val_loss: 3365.7744\n",
            "Epoch 70/200\n",
            "1010/1010 [==============================] - 15s 15ms/step - loss: 24.3001 - val_loss: 1020.9731\n",
            "Epoch 71/200\n",
            "1010/1010 [==============================] - 16s 15ms/step - loss: 21.7781 - val_loss: 526.8616\n",
            "Epoch 72/200\n",
            "1010/1010 [==============================] - 16s 15ms/step - loss: 15.4064 - val_loss: 3593.0681\n",
            "Epoch 73/200\n",
            "1010/1010 [==============================] - 15s 15ms/step - loss: 23.9453 - val_loss: 1355.2300\n",
            "Epoch 74/200\n",
            "1010/1010 [==============================] - 15s 15ms/step - loss: 16.8380 - val_loss: 3262.7034\n",
            "Epoch 75/200\n",
            "1010/1010 [==============================] - 15s 15ms/step - loss: 23.0264 - val_loss: 598.1892\n",
            "Epoch 76/200\n",
            "1010/1010 [==============================] - 15s 15ms/step - loss: 13.5568 - val_loss: 3033.8125\n",
            "Epoch 77/200\n",
            "1010/1010 [==============================] - 15s 15ms/step - loss: 22.3606 - val_loss: 1378.9601\n",
            "Epoch 78/200\n",
            "1010/1010 [==============================] - 16s 15ms/step - loss: 16.9392 - val_loss: 3199.5938\n",
            "Epoch 79/200\n",
            "1010/1010 [==============================] - 16s 15ms/step - loss: 29.9731 - val_loss: 1047.6423\n",
            "Epoch 80/200\n",
            "1010/1010 [==============================] - 15s 15ms/step - loss: 20.3197 - val_loss: 633.9377\n",
            "Epoch 81/200\n",
            "1010/1010 [==============================] - 15s 15ms/step - loss: 15.1746 - val_loss: 1831.0875\n",
            "Epoch 82/200\n",
            "1010/1010 [==============================] - 15s 15ms/step - loss: 12.8209 - val_loss: 2350.6409\n",
            "Epoch 83/200\n",
            "1010/1010 [==============================] - 15s 15ms/step - loss: 20.1784 - val_loss: 567.5382\n",
            "Epoch 84/200\n",
            "1010/1010 [==============================] - 15s 15ms/step - loss: 14.3683 - val_loss: 1248.8079\n",
            "Epoch 85/200\n",
            "1010/1010 [==============================] - 15s 15ms/step - loss: 16.5666 - val_loss: 1810.5741\n",
            "Epoch 86/200\n",
            "1010/1010 [==============================] - 16s 15ms/step - loss: 10.9094 - val_loss: 2768.5691\n",
            "Epoch 87/200\n",
            "1010/1010 [==============================] - 16s 15ms/step - loss: 18.8293 - val_loss: 478.6624\n",
            "Epoch 88/200\n",
            "1010/1010 [==============================] - 16s 15ms/step - loss: 8.9584 - val_loss: 2656.7488\n",
            "Epoch 89/200\n",
            "1010/1010 [==============================] - 15s 15ms/step - loss: 16.2314 - val_loss: 683.4942\n",
            "Epoch 90/200\n",
            "1010/1010 [==============================] - 15s 15ms/step - loss: 14.5514 - val_loss: 2016.6748\n",
            "Epoch 91/200\n",
            "1010/1010 [==============================] - 15s 15ms/step - loss: 19.0247 - val_loss: 649.7017\n",
            "Epoch 92/200\n",
            "1010/1010 [==============================] - 16s 15ms/step - loss: 12.5438 - val_loss: 1437.2158\n",
            "Epoch 93/200\n",
            "1010/1010 [==============================] - 16s 15ms/step - loss: 16.6767 - val_loss: 391.7221\n",
            "Epoch 94/200\n",
            "1010/1010 [==============================] - 16s 15ms/step - loss: 12.7948 - val_loss: 1500.0243\n",
            "Epoch 95/200\n",
            "1010/1010 [==============================] - 16s 15ms/step - loss: 14.4304 - val_loss: 1851.6855\n",
            "Epoch 96/200\n",
            "1010/1010 [==============================] - 15s 15ms/step - loss: 10.2666 - val_loss: 1733.6981\n",
            "Epoch 97/200\n",
            "1010/1010 [==============================] - 16s 15ms/step - loss: 14.2685 - val_loss: 727.5245\n",
            "Epoch 98/200\n",
            "1010/1010 [==============================] - 16s 15ms/step - loss: 6.8058 - val_loss: 996.6868\n",
            "Epoch 99/200\n",
            "1010/1010 [==============================] - 15s 15ms/step - loss: 11.7716 - val_loss: 922.6132\n",
            "Epoch 100/200\n",
            "1010/1010 [==============================] - 16s 16ms/step - loss: 8.5880 - val_loss: 1563.2078\n",
            "Epoch 101/200\n",
            "1010/1010 [==============================] - 15s 15ms/step - loss: 13.5863 - val_loss: 525.5382\n",
            "Epoch 102/200\n",
            "1010/1010 [==============================] - 16s 16ms/step - loss: 8.5176 - val_loss: 1767.2504\n",
            "Epoch 103/200\n",
            "1010/1010 [==============================] - 15s 15ms/step - loss: 12.9436 - val_loss: 669.6328\n",
            "Epoch 104/200\n",
            "1010/1010 [==============================] - 16s 15ms/step - loss: 11.0621 - val_loss: 1652.1191\n",
            "Epoch 105/200\n",
            "1010/1010 [==============================] - 15s 15ms/step - loss: 13.7480 - val_loss: 1230.0933\n",
            "Epoch 106/200\n",
            "1010/1010 [==============================] - 16s 16ms/step - loss: 14.6836 - val_loss: 1739.4470\n",
            "Epoch 107/200\n",
            "1010/1010 [==============================] - 16s 15ms/step - loss: 13.1165 - val_loss: 196.0790\n",
            "Epoch 108/200\n",
            "1010/1010 [==============================] - 15s 15ms/step - loss: 8.2349 - val_loss: 1415.0941\n",
            "Epoch 109/200\n",
            "1010/1010 [==============================] - 16s 15ms/step - loss: 11.5291 - val_loss: 620.6553\n",
            "Epoch 110/200\n",
            "1010/1010 [==============================] - 15s 15ms/step - loss: 14.4303 - val_loss: 1324.1525\n",
            "Epoch 111/200\n",
            "1010/1010 [==============================] - 15s 15ms/step - loss: 16.3091 - val_loss: 666.6861\n",
            "Epoch 112/200\n",
            "1010/1010 [==============================] - 15s 15ms/step - loss: 13.3448 - val_loss: 886.1661\n",
            "Epoch 113/200\n",
            "1010/1010 [==============================] - 16s 15ms/step - loss: 14.8789 - val_loss: 577.5941\n",
            "Epoch 114/200\n",
            "1010/1010 [==============================] - 15s 15ms/step - loss: 11.8825 - val_loss: 737.9879\n",
            "Epoch 115/200\n",
            "1010/1010 [==============================] - 15s 15ms/step - loss: 13.2444 - val_loss: 576.1064\n",
            "Epoch 116/200\n",
            "1010/1010 [==============================] - 15s 15ms/step - loss: 13.3114 - val_loss: 861.3041\n",
            "Epoch 117/200\n",
            "1010/1010 [==============================] - 15s 15ms/step - loss: 13.3320 - val_loss: 748.4736\n",
            "Epoch 118/200\n",
            "1010/1010 [==============================] - 16s 15ms/step - loss: 12.8728 - val_loss: 853.1123\n",
            "Epoch 119/200\n",
            "1010/1010 [==============================] - 15s 15ms/step - loss: 12.9770 - val_loss: 826.6371\n",
            "Epoch 120/200\n",
            "1010/1010 [==============================] - 15s 15ms/step - loss: 12.7332 - val_loss: 865.8256\n",
            "Epoch 121/200\n",
            "1010/1010 [==============================] - 16s 15ms/step - loss: 12.6518 - val_loss: 877.9122\n",
            "Epoch 122/200\n",
            "1010/1010 [==============================] - 15s 15ms/step - loss: 12.5171 - val_loss: 886.7643\n",
            "Epoch 123/200\n",
            "1010/1010 [==============================] - 15s 15ms/step - loss: 12.3163 - val_loss: 894.9681\n",
            "Epoch 124/200\n",
            "1010/1010 [==============================] - 15s 15ms/step - loss: 12.1413 - val_loss: 945.9136\n",
            "Epoch 125/200\n",
            "1010/1010 [==============================] - 15s 15ms/step - loss: 12.0825 - val_loss: 1003.7131\n",
            "Epoch 126/200\n",
            "1010/1010 [==============================] - 15s 15ms/step - loss: 12.1116 - val_loss: 1068.5266\n",
            "Epoch 127/200\n",
            "1010/1010 [==============================] - 16s 15ms/step - loss: 12.1889 - val_loss: 1127.6420\n",
            "Epoch 128/200\n",
            "1010/1010 [==============================] - 16s 16ms/step - loss: 12.5721 - val_loss: 577.6122\n",
            "Epoch 129/200\n",
            "1010/1010 [==============================] - 16s 15ms/step - loss: 10.6871 - val_loss: 890.0749\n",
            "Epoch 130/200\n",
            "1010/1010 [==============================] - 16s 15ms/step - loss: 11.8059 - val_loss: 1184.4247\n",
            "Epoch 131/200\n",
            "1010/1010 [==============================] - 15s 15ms/step - loss: 12.5050 - val_loss: 1051.2427\n",
            "Epoch 132/200\n",
            "1010/1010 [==============================] - 16s 15ms/step - loss: 13.3675 - val_loss: 1203.0665\n",
            "Epoch 133/200\n",
            "1010/1010 [==============================] - 15s 15ms/step - loss: 13.4140 - val_loss: 1027.5344\n",
            "Epoch 134/200\n",
            "1010/1010 [==============================] - 16s 15ms/step - loss: 13.7033 - val_loss: 1158.9313\n",
            "Epoch 135/200\n",
            "1010/1010 [==============================] - 16s 15ms/step - loss: 13.0664 - val_loss: 1055.9749\n",
            "Epoch 136/200\n",
            "1010/1010 [==============================] - 16s 15ms/step - loss: 13.3590 - val_loss: 1257.1741\n",
            "Epoch 137/200\n",
            "1010/1010 [==============================] - 16s 16ms/step - loss: 11.6943 - val_loss: 1273.7489\n",
            "Epoch 138/200\n",
            "1010/1010 [==============================] - 16s 15ms/step - loss: 13.7392 - val_loss: 214.7947\n",
            "Epoch 139/200\n",
            "1010/1010 [==============================] - 16s 16ms/step - loss: 7.7463 - val_loss: 1122.4801\n",
            "Epoch 140/200\n",
            "1010/1010 [==============================] - 16s 15ms/step - loss: 12.7036 - val_loss: 416.9164\n",
            "Epoch 141/200\n",
            "1010/1010 [==============================] - 16s 16ms/step - loss: 6.5699 - val_loss: 286.9709\n",
            "Epoch 142/200\n",
            "1010/1010 [==============================] - 16s 16ms/step - loss: 10.3313 - val_loss: 903.8158\n",
            "Epoch 143/200\n",
            "1010/1010 [==============================] - 16s 15ms/step - loss: 9.4475 - val_loss: 1075.1276\n",
            "Epoch 144/200\n",
            "1010/1010 [==============================] - 16s 16ms/step - loss: 12.3241 - val_loss: 641.5847\n",
            "Epoch 145/200\n",
            "1010/1010 [==============================] - 16s 16ms/step - loss: 8.7982 - val_loss: 486.5017\n",
            "Epoch 146/200\n",
            "1010/1010 [==============================] - 16s 15ms/step - loss: 11.7992 - val_loss: 693.4723\n",
            "Epoch 147/200\n",
            "1010/1010 [==============================] - 15s 15ms/step - loss: 5.8945 - val_loss: 830.7981\n",
            "Epoch 148/200\n",
            "1010/1010 [==============================] - 16s 16ms/step - loss: 12.6154 - val_loss: 923.7979\n",
            "Epoch 149/200\n",
            "1010/1010 [==============================] - 16s 16ms/step - loss: 12.7312 - val_loss: 1786.7534\n",
            "Epoch 150/200\n",
            "1010/1010 [==============================] - 16s 16ms/step - loss: 13.3092 - val_loss: 268.1373\n",
            "Epoch 151/200\n",
            "1010/1010 [==============================] - 16s 15ms/step - loss: 6.2049 - val_loss: 341.4112\n",
            "Epoch 152/200\n",
            "1010/1010 [==============================] - 16s 16ms/step - loss: 9.5923 - val_loss: 305.5847\n",
            "Epoch 153/200\n",
            "1010/1010 [==============================] - 16s 15ms/step - loss: 8.9053 - val_loss: 991.4080\n",
            "Epoch 154/200\n",
            "1010/1010 [==============================] - 15s 15ms/step - loss: 10.4012 - val_loss: 1085.9539\n",
            "Epoch 155/200\n",
            "1010/1010 [==============================] - 15s 15ms/step - loss: 11.8235 - val_loss: 646.5908\n",
            "Epoch 156/200\n",
            "1010/1010 [==============================] - 15s 15ms/step - loss: 9.2694 - val_loss: 1317.8773\n",
            "Epoch 157/200\n",
            "1010/1010 [==============================] - 15s 15ms/step - loss: 10.9188 - val_loss: 1131.2141\n",
            "Epoch 158/200\n",
            "1010/1010 [==============================] - 16s 16ms/step - loss: 14.8734 - val_loss: 975.2802\n",
            "Epoch 159/200\n",
            "1010/1010 [==============================] - 16s 16ms/step - loss: 10.4555 - val_loss: 1072.1212\n",
            "Epoch 160/200\n",
            "1010/1010 [==============================] - 16s 15ms/step - loss: 11.7166 - val_loss: 552.5208\n",
            "Epoch 161/200\n",
            "1010/1010 [==============================] - 16s 16ms/step - loss: 8.0772 - val_loss: 668.7601\n",
            "Epoch 162/200\n",
            "1010/1010 [==============================] - 16s 15ms/step - loss: 11.2917 - val_loss: 737.0292\n",
            "Epoch 163/200\n",
            "1010/1010 [==============================] - 16s 15ms/step - loss: 5.3315 - val_loss: 537.8965\n",
            "Epoch 164/200\n",
            "1010/1010 [==============================] - 16s 16ms/step - loss: 12.1791 - val_loss: 182.1644\n",
            "Epoch 165/200\n",
            "1010/1010 [==============================] - 16s 15ms/step - loss: 6.2810 - val_loss: 1847.0593\n",
            "Epoch 166/200\n",
            "1010/1010 [==============================] - 16s 16ms/step - loss: 13.5527 - val_loss: 358.1894\n",
            "Epoch 167/200\n",
            "1010/1010 [==============================] - 16s 15ms/step - loss: 8.9549 - val_loss: 1996.5127\n",
            "Epoch 168/200\n",
            "1010/1010 [==============================] - 16s 16ms/step - loss: 13.7239 - val_loss: 195.6473\n",
            "Epoch 169/200\n",
            "1010/1010 [==============================] - 16s 16ms/step - loss: 8.0557 - val_loss: 817.7166\n",
            "Epoch 170/200\n",
            "1010/1010 [==============================] - 16s 16ms/step - loss: 12.3610 - val_loss: 167.3954\n",
            "Epoch 171/200\n",
            "1010/1010 [==============================] - 16s 16ms/step - loss: 6.0874 - val_loss: 1784.7701\n",
            "Epoch 172/200\n",
            "1010/1010 [==============================] - 16s 16ms/step - loss: 13.3808 - val_loss: 930.4052\n",
            "Epoch 173/200\n",
            "1010/1010 [==============================] - 16s 16ms/step - loss: 12.5566 - val_loss: 1903.2684\n",
            "Epoch 174/200\n",
            "1010/1010 [==============================] - 16s 15ms/step - loss: 12.4855 - val_loss: 493.8414\n",
            "Epoch 175/200\n",
            "1010/1010 [==============================] - 16s 16ms/step - loss: 7.6355 - val_loss: 1147.7432\n",
            "Epoch 176/200\n",
            "1010/1010 [==============================] - 15s 15ms/step - loss: 10.9435 - val_loss: 270.5796\n",
            "Epoch 177/200\n",
            "1010/1010 [==============================] - 16s 15ms/step - loss: 5.2591 - val_loss: 126.6853\n",
            "Epoch 178/200\n",
            "1010/1010 [==============================] - 16s 15ms/step - loss: 11.3239 - val_loss: 163.4868\n",
            "Epoch 179/200\n",
            "1010/1010 [==============================] - 16s 16ms/step - loss: 5.7389 - val_loss: 1816.7698\n",
            "Epoch 180/200\n",
            "1010/1010 [==============================] - 16s 16ms/step - loss: 12.1268 - val_loss: 638.9476\n",
            "Epoch 181/200\n",
            "1010/1010 [==============================] - 15s 15ms/step - loss: 8.8985 - val_loss: 1160.4404\n",
            "Epoch 182/200\n",
            "1010/1010 [==============================] - 16s 16ms/step - loss: 11.1513 - val_loss: 281.4864\n",
            "Epoch 183/200\n",
            "1010/1010 [==============================] - 16s 16ms/step - loss: 5.2302 - val_loss: 1823.0110\n",
            "Epoch 184/200\n",
            "1010/1010 [==============================] - 16s 16ms/step - loss: 13.1897 - val_loss: 347.3348\n",
            "Epoch 185/200\n",
            "1010/1010 [==============================] - 16s 16ms/step - loss: 4.8159 - val_loss: 923.6344\n",
            "Epoch 186/200\n",
            "1010/1010 [==============================] - 16s 15ms/step - loss: 11.2095 - val_loss: 842.8547\n",
            "Epoch 187/200\n",
            "1010/1010 [==============================] - 16s 16ms/step - loss: 7.4971 - val_loss: 268.0635\n",
            "Epoch 188/200\n",
            "1010/1010 [==============================] - 16s 16ms/step - loss: 10.0361 - val_loss: 441.1617\n",
            "Epoch 189/200\n",
            "1010/1010 [==============================] - 15s 15ms/step - loss: 6.3429 - val_loss: 971.8571\n",
            "Epoch 190/200\n",
            "1010/1010 [==============================] - 16s 15ms/step - loss: 11.9787 - val_loss: 272.4722\n",
            "Epoch 191/200\n",
            "1010/1010 [==============================] - 16s 16ms/step - loss: 6.1919 - val_loss: 1784.5991\n",
            "Epoch 192/200\n",
            "1010/1010 [==============================] - 15s 15ms/step - loss: 12.7812 - val_loss: 303.3475\n",
            "Epoch 193/200\n",
            "1010/1010 [==============================] - 16s 15ms/step - loss: 8.3095 - val_loss: 297.6886\n",
            "Epoch 194/200\n",
            "1010/1010 [==============================] - 15s 15ms/step - loss: 7.7116 - val_loss: 411.8329\n",
            "Epoch 195/200\n",
            "1010/1010 [==============================] - 16s 16ms/step - loss: 8.7231 - val_loss: 1762.6217\n",
            "Epoch 196/200\n",
            "1010/1010 [==============================] - 16s 16ms/step - loss: 9.7897 - val_loss: 147.3550\n",
            "Epoch 197/200\n",
            "1010/1010 [==============================] - 16s 16ms/step - loss: 8.9104 - val_loss: 991.9204\n",
            "Epoch 198/200\n",
            "1010/1010 [==============================] - 16s 16ms/step - loss: 9.0487 - val_loss: 1172.9551\n",
            "Epoch 199/200\n",
            "1010/1010 [==============================] - 16s 15ms/step - loss: 12.4658 - val_loss: 1271.7501\n",
            "Epoch 200/200\n",
            "1010/1010 [==============================] - 16s 16ms/step - loss: 10.1862 - val_loss: 153.9216\n"
          ]
        },
        {
          "output_type": "display_data",
          "data": {
            "image/png": "[encoded data removed]",
            "text/plain": [
              "<Figure size 432x288 with 1 Axes>"
            ]
          },
          "metadata": {
            "needs_background": "light"
          }
        }
      ]
    },
    {
      "cell_type": "code",
      "metadata": {
        "colab": {
          "base_uri": "https://localhost:8080/"
        },
        "id": "hHYx1_SmPcqP",
        "outputId": "7ceaec05-c588-4f16-f58a-25d6cd1ff8de"
      },
      "source": [
        "model.summary()"
      ],
      "execution_count": 77,
      "outputs": [
        {
          "output_type": "stream",
          "name": "stdout",
          "text": [
            "Model: \"sequential_1\"\n",
            "_________________________________________________________________\n",
            "Layer (type)                 Output Shape              Param #   \n",
            "=================================================================\n",
            "simple_rnn_3 (SimpleRNN)     (None, 24, 5)             55        \n",
            "_________________________________________________________________\n",
            "simple_rnn_4 (SimpleRNN)     (None, 24, 50)            2800      \n",
            "_________________________________________________________________\n",
            "simple_rnn_5 (SimpleRNN)     (None, 45)                4320      \n",
            "_________________________________________________________________\n",
            "dense_1 (Dense)              (None, 1)                 46        \n",
            "=================================================================\n",
            "Total params: 7,221\n",
            "Trainable params: 7,221\n",
            "Non-trainable params: 0\n",
            "_________________________________________________________________\n"
          ]
        }
      ]
    },
    {
      "cell_type": "markdown",
      "metadata": {
        "id": "Eg5-oYQiPfpe"
      },
      "source": [
        "Applying the model on the testing data"
      ]
    },
    {
      "cell_type": "code",
      "metadata": {
        "colab": {
          "base_uri": "https://localhost:8080/",
          "height": 348
        },
        "id": "A6pwX4bdPa4V",
        "outputId": "15c708ce-176b-4df8-bf28-df1199820590"
      },
      "source": [
        "mse, rmse, r2_value,true,predicted = evaluate_model(model,test,timesteps)\n",
        "print(\"ETH Price prediction\")\n",
        "print('MSE = {}'.format(mse))\n",
        "print('RMSE = {}'.format(rmse))\n",
        "print('R-Squared Score = {}'.format(r2_value))\n",
        "plot_data(true,predicted)"
      ],
      "execution_count": 78,
      "outputs": [
        {
          "output_type": "stream",
          "name": "stdout",
          "text": [
            "ETH Price prediction\n",
            "MSE = 38.8054952229149\n",
            "RMSE = 6.229405687777518\n",
            "R-Squared Score = 0.9980708654392528\n"
          ]
        },
        {
          "output_type": "display_data",
          "data": {
            "image/png": "[encoded data removed]",
            "text/plain": [
              "<Figure size 432x288 with 1 Axes>"
            ]
          },
          "metadata": {
            "needs_background": "light"
          }
        }
      ]
    },
    {
      "cell_type": "code",
      "metadata": {
        "colab": {
          "base_uri": "https://localhost:8080/"
        },
        "id": "26h2c5k6sYtZ",
        "outputId": "9882ff85-a82b-40fa-ca82-4d9e0cf24302"
      },
      "source": [
        "# Saving the model for future use\n",
        "model.save('MV5-BTC1h_RNN_24_[50,45]_1e-3_32.hdf5') #local\n",
        "model.save('/content/drive/MyDrive/Saved models/MV5-BTC1h_RNN_24_[50,45]_1e-3_32.hdf5') #drive\n",
        "print('Model saved!')"
      ],
      "execution_count": 79,
      "outputs": [
        {
          "output_type": "stream",
          "name": "stdout",
          "text": [
            "Model saved!\n"
          ]
        }
      ]
    },
    {
      "cell_type": "code",
      "metadata": {
        "id": "xO2q0F9zPyoY"
      },
      "source": [
        "# Delete model\n",
        "del model"
      ],
      "execution_count": 80,
      "outputs": []
    }
  ]
}
